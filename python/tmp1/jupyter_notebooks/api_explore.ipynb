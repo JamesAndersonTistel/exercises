{
 "cells": [
  {
   "cell_type": "code",
   "execution_count": 2,
   "id": "52702b75-1791-4c5c-b169-38cd4b5e9305",
   "metadata": {},
   "outputs": [],
   "source": [
    "import os\n",
    "import pickle"
   ]
  },
  {
   "cell_type": "code",
   "execution_count": 1,
   "id": "6b5c09af-325b-40b7-976e-d84bcb6243c7",
   "metadata": {},
   "outputs": [],
   "source": [
    "import requests"
   ]
  },
  {
   "cell_type": "code",
   "execution_count": 3,
   "id": "ce28d93b-e4ca-4756-a603-e1186d86f029",
   "metadata": {},
   "outputs": [
    {
     "data": {
      "text/plain": [
       "3029"
      ]
     },
     "execution_count": 3,
     "metadata": {},
     "output_type": "execute_result"
    }
   ],
   "source": [
    "api_result = requests.get('https://api4.binance.com/api/v3/ticker/24hr').json()\n",
    "len(api_result)"
   ]
  },
  {
   "cell_type": "code",
   "execution_count": null,
   "id": "6d1b8fca-55aa-4db3-8f34-1d5dfbd39c96",
   "metadata": {},
   "outputs": [],
   "source": []
  }
 ],
 "metadata": {
  "kernelspec": {
   "display_name": "Python 3 (ipykernel)",
   "language": "python",
   "name": "python3"
  },
  "language_info": {
   "codemirror_mode": {
    "name": "ipython",
    "version": 3
   },
   "file_extension": ".py",
   "mimetype": "text/x-python",
   "name": "python",
   "nbconvert_exporter": "python",
   "pygments_lexer": "ipython3",
   "version": "3.12.8"
  }
 },
 "nbformat": 4,
 "nbformat_minor": 5
}
