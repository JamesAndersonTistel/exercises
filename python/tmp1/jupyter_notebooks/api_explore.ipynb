{
 "cells": [
  {
   "cell_type": "code",
   "execution_count": 2,
   "id": "52702b75-1791-4c5c-b169-38cd4b5e9305",
   "metadata": {},
   "outputs": [],
   "source": [
    "import os\n",
    "import pickle"
   ]
  },
  {
   "cell_type": "code",
   "execution_count": 1,
   "id": "6b5c09af-325b-40b7-976e-d84bcb6243c7",
   "metadata": {},
   "outputs": [],
   "source": [
    "import requests"
   ]
  },
  {
   "cell_type": "code",
   "execution_count": 3,
   "id": "ce28d93b-e4ca-4756-a603-e1186d86f029",
   "metadata": {},
   "outputs": [
    {
     "data": {
      "text/plain": [
       "3029"
      ]
     },
     "execution_count": 3,
     "metadata": {},
     "output_type": "execute_result"
    }
   ],
   "source": [
    "api_result = requests.get('https://api4.binance.com/api/v3/ticker/24hr').json()\n",
    "len(api_result)"
   ]
  },
  {
   "cell_type": "code",
   "execution_count": 4,
   "id": "6d1b8fca-55aa-4db3-8f34-1d5dfbd39c96",
   "metadata": {},
   "outputs": [
    {
     "data": {
      "text/plain": [
       "[{'symbol': 'ETHBTC',\n",
       "  'priceChange': '-0.00069000',\n",
       "  'priceChangePercent': '-2.992',\n",
       "  'weightedAvgPrice': '0.02242680',\n",
       "  'prevClosePrice': '0.02305000',\n",
       "  'lastPrice': '0.02237000',\n",
       "  'lastQty': '0.00960000',\n",
       "  'bidPrice': '0.02236000',\n",
       "  'bidQty': '41.33610000',\n",
       "  'askPrice': '0.02237000',\n",
       "  'askQty': '62.41690000',\n",
       "  'openPrice': '0.02306000',\n",
       "  'highPrice': '0.02310000',\n",
       "  'lowPrice': '0.02192000',\n",
       "  'volume': '37890.20400000',\n",
       "  'quoteVolume': '849.75617951',\n",
       "  'openTime': 1743096607266,\n",
       "  'closeTime': 1743183007266,\n",
       "  'firstId': 491413581,\n",
       "  'lastId': 491486238,\n",
       "  'count': 72658},\n",
       " {'symbol': 'LTCBTC',\n",
       "  'priceChange': '-0.00003500',\n",
       "  'priceChangePercent': '-3.280',\n",
       "  'weightedAvgPrice': '0.00104405',\n",
       "  'prevClosePrice': '0.00106700',\n",
       "  'lastPrice': '0.00103200',\n",
       "  'lastQty': '12.25200000',\n",
       "  'bidPrice': '0.00103100',\n",
       "  'bidQty': '41.89300000',\n",
       "  'askPrice': '0.00103200',\n",
       "  'askQty': '322.88300000',\n",
       "  'openPrice': '0.00106700',\n",
       "  'highPrice': '0.00107200',\n",
       "  'lowPrice': '0.00102700',\n",
       "  'volume': '28926.83200000',\n",
       "  'quoteVolume': '30.20099824',\n",
       "  'openTime': 1743096607003,\n",
       "  'closeTime': 1743183007003,\n",
       "  'firstId': 104669022,\n",
       "  'lastId': 104677538,\n",
       "  'count': 8517},\n",
       " {'symbol': 'BNBBTC',\n",
       "  'priceChange': '0.00010400',\n",
       "  'priceChangePercent': '1.418',\n",
       "  'weightedAvgPrice': '0.00736373',\n",
       "  'prevClosePrice': '0.00733400',\n",
       "  'lastPrice': '0.00743600',\n",
       "  'lastQty': '1.94900000',\n",
       "  'bidPrice': '0.00743600',\n",
       "  'bidQty': '1.05100000',\n",
       "  'askPrice': '0.00743700',\n",
       "  'askQty': '14.17000000',\n",
       "  'openPrice': '0.00733200',\n",
       "  'highPrice': '0.00746300',\n",
       "  'lowPrice': '0.00726300',\n",
       "  'volume': '21107.67700000',\n",
       "  'quoteVolume': '155.43115089',\n",
       "  'openTime': 1743096607674,\n",
       "  'closeTime': 1743183007674,\n",
       "  'firstId': 270970401,\n",
       "  'lastId': 271002418,\n",
       "  'count': 32018}]"
      ]
     },
     "execution_count": 4,
     "metadata": {},
     "output_type": "execute_result"
    }
   ],
   "source": [
    "api_result[:3]"
   ]
  },
  {
   "cell_type": "code",
   "execution_count": null,
   "id": "b801abbc-005a-41f0-82be-52ad2e64458b",
   "metadata": {},
   "outputs": [],
   "source": []
  }
 ],
 "metadata": {
  "kernelspec": {
   "display_name": "Python 3 (ipykernel)",
   "language": "python",
   "name": "python3"
  },
  "language_info": {
   "codemirror_mode": {
    "name": "ipython",
    "version": 3
   },
   "file_extension": ".py",
   "mimetype": "text/x-python",
   "name": "python",
   "nbconvert_exporter": "python",
   "pygments_lexer": "ipython3",
   "version": "3.12.8"
  }
 },
 "nbformat": 4,
 "nbformat_minor": 5
}
